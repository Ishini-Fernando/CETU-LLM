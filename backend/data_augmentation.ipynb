{
  "cells": [
    {
      "cell_type": "code",
      "execution_count": null,
      "id": "80900401-d1c0-4a69-b65b-c53586076a45",
      "metadata": {
        "id": "80900401-d1c0-4a69-b65b-c53586076a45"
      },
      "outputs": [],
      "source": [
        "import pandas as pd\n",
        "from sdv.metadata import SingleTableMetadata\n",
        "from sdv.sequential import PARSynthesizer\n",
        "\n",
        "# Importing the patient records\n",
        "patient_record = pd.read_csv('/content/drive/My Drive/FYP/experiment_data/TrainDead.csv')\n",
        "# patient_record = pd.read_csv('/content/drive/My Drive/FYP/experiment_data/TrainSurvived.csv')\n",
        "\n",
        "metadata = SingleTableMetadata()\n",
        "metadata.detect_from_dataframe(data=patient_record)\n",
        "metadata.update_column(\n",
        "    column_name='ID',\n",
        "    sdtype='id')\n",
        "metadata.set_sequence_key(column_name='ID')\n",
        "\n",
        "synthesizer = PARSynthesizer(\n",
        "    metadata,\n",
        "    context_columns=['Age','Gender','Alcoholic','Smoke','FHCD','TriageScore','Outcome'],\n",
        "    epochs=90,\n",
        "    verbose=True,\n",
        "    )\n",
        "\n",
        "synthesizer.fit(patient_record)\n",
        "\n",
        "# According to the experiments you need to change the number of sequences\n",
        "# to define how many sequences you want to generate\n",
        "synthetic_data = synthesizer.sample(num_sequences=74)"
      ]
    }
  ],
  "metadata": {
    "kernelspec": {
      "display_name": "Python 3 (ipykernel)",
      "language": "python",
      "name": "python3"
    },
    "language_info": {
      "codemirror_mode": {
        "name": "ipython",
        "version": 3
      },
      "file_extension": ".py",
      "mimetype": "text/x-python",
      "name": "python",
      "nbconvert_exporter": "python",
      "pygments_lexer": "ipython3",
      "version": "3.10.13"
    },
    "colab": {
      "provenance": []
    }
  },
  "nbformat": 4,
  "nbformat_minor": 5
}